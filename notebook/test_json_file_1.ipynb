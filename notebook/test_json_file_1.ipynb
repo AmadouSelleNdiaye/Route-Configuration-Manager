{
 "cells": [
  {
   "cell_type": "code",
   "execution_count": 12,
   "id": "7533a253",
   "metadata": {},
   "outputs": [],
   "source": [
    "import folium\n",
    "import json"
   ]
  },
  {
   "cell_type": "code",
   "execution_count": 9,
   "id": "aef03c35",
   "metadata": {},
   "outputs": [],
   "source": [
    "# Center on Montreal\n",
    "m = folium.Map(location=[45.5, -73.6], zoom_start=10)"
   ]
  },
  {
   "cell_type": "code",
   "execution_count": 14,
   "id": "1e6be251",
   "metadata": {},
   "outputs": [],
   "source": [
    "# Load JSON\n",
    "with open(\"../data/QC-MONT-STD-SORT2-CASCADE-TSL.json\") as f:\n",
    "    data = json.load(f)"
   ]
  },
  {
   "cell_type": "code",
   "execution_count": 15,
   "id": "69d0121c",
   "metadata": {},
   "outputs": [],
   "source": [
    "polygons = []\n",
    "\n",
    "for route in data.get(\"routingParameterUiVehicleDTOs\", []):\n",
    "    for pref in route.get(\"routingParameterUiVehiclePreferenceDTOs\", []):\n",
    "        poly_data = pref.get(\"routingParameterUiPolygonDTO\")\n",
    "        if poly_data and \"polygonCoordinates\" in poly_data:\n",
    "            coords_text = poly_data[\"polygonCoordinates\"].strip()\n",
    "            coords = []\n",
    "            for line in coords_text.splitlines():\n",
    "                lon, lat, *_ = line.split(\",\")\n",
    "                coords.append((float(lat), float(lon)))  # folium expects (lat, lon)\n",
    "            polygons.append({\n",
    "                \"name\": poly_data.get(\"name\", \"Unknown\"),\n",
    "                \"coords\": coords\n",
    "                   })"
   ]
  },
  {
   "cell_type": "code",
   "execution_count": 16,
   "id": "63a1c62a",
   "metadata": {},
   "outputs": [],
   "source": [
    "for poly in polygons:\n",
    "    folium.Polygon(\n",
    "        locations=poly[\"coords\"],\n",
    "        color=\"blue\",\n",
    "        fill=True,\n",
    "        fill_color=\"blue\",\n",
    "        fill_opacity=0.2,\n",
    "        tooltip=poly[\"name\"]\n",
    "        # tooltip=folium.GeoJsonTooltip(fields=poly[\"name\"], aliases=[\"Name: \"])\n",
    "    ).add_to(m)"
   ]
  },
  {
   "cell_type": "code",
   "execution_count": 17,
   "id": "f5e26f2f",
   "metadata": {},
   "outputs": [],
   "source": [
    "m.save(\"map.html\")"
   ]
  },
  {
   "cell_type": "code",
   "execution_count": 2,
   "id": "c3103872",
   "metadata": {},
   "outputs": [],
   "source": [
    "import geopandas as gpd\n",
    "\n",
    "data = gpd.read_file(\"../data/lfsa000b21a_e.shp\")"
   ]
  },
  {
   "cell_type": "code",
   "execution_count": 3,
   "id": "851037c8",
   "metadata": {},
   "outputs": [
    {
     "data": {
      "text/html": [
       "<div>\n",
       "<style scoped>\n",
       "    .dataframe tbody tr th:only-of-type {\n",
       "        vertical-align: middle;\n",
       "    }\n",
       "\n",
       "    .dataframe tbody tr th {\n",
       "        vertical-align: top;\n",
       "    }\n",
       "\n",
       "    .dataframe thead th {\n",
       "        text-align: right;\n",
       "    }\n",
       "</style>\n",
       "<table border=\"1\" class=\"dataframe\">\n",
       "  <thead>\n",
       "    <tr style=\"text-align: right;\">\n",
       "      <th></th>\n",
       "      <th>CFSAUID</th>\n",
       "      <th>DGUID</th>\n",
       "      <th>PRUID</th>\n",
       "      <th>PRNAME</th>\n",
       "      <th>LANDAREA</th>\n",
       "      <th>geometry</th>\n",
       "    </tr>\n",
       "  </thead>\n",
       "  <tbody>\n",
       "    <tr>\n",
       "      <th>0</th>\n",
       "      <td>A0A</td>\n",
       "      <td>2021A0011A0A</td>\n",
       "      <td>10</td>\n",
       "      <td>Newfoundland and Labrador / Terre-Neuve-et-Lab...</td>\n",
       "      <td>4136.6221</td>\n",
       "      <td>MULTIPOLYGON (((8986398.603 2027249.146, 89863...</td>\n",
       "    </tr>\n",
       "    <tr>\n",
       "      <th>1</th>\n",
       "      <td>A0B</td>\n",
       "      <td>2021A0011A0B</td>\n",
       "      <td>10</td>\n",
       "      <td>Newfoundland and Labrador / Terre-Neuve-et-Lab...</td>\n",
       "      <td>4152.6284</td>\n",
       "      <td>MULTIPOLYGON (((8942820.023 2019517.649, 89428...</td>\n",
       "    </tr>\n",
       "    <tr>\n",
       "      <th>2</th>\n",
       "      <td>A0C</td>\n",
       "      <td>2021A0011A0C</td>\n",
       "      <td>10</td>\n",
       "      <td>Newfoundland and Labrador / Terre-Neuve-et-Lab...</td>\n",
       "      <td>2733.4722</td>\n",
       "      <td>MULTIPOLYGON (((8881604.92 2158976.151, 888160...</td>\n",
       "    </tr>\n",
       "    <tr>\n",
       "      <th>3</th>\n",
       "      <td>A0E</td>\n",
       "      <td>2021A0011A0E</td>\n",
       "      <td>10</td>\n",
       "      <td>Newfoundland and Labrador / Terre-Neuve-et-Lab...</td>\n",
       "      <td>6365.8235</td>\n",
       "      <td>MULTIPOLYGON (((8824262.857 1952006.689, 88242...</td>\n",
       "    </tr>\n",
       "    <tr>\n",
       "      <th>4</th>\n",
       "      <td>A0G</td>\n",
       "      <td>2021A0011A0G</td>\n",
       "      <td>10</td>\n",
       "      <td>Newfoundland and Labrador / Terre-Neuve-et-Lab...</td>\n",
       "      <td>15499.6047</td>\n",
       "      <td>MULTIPOLYGON (((8847567.966 2181504.514, 88475...</td>\n",
       "    </tr>\n",
       "  </tbody>\n",
       "</table>\n",
       "</div>"
      ],
      "text/plain": [
       "  CFSAUID         DGUID PRUID  \\\n",
       "0     A0A  2021A0011A0A    10   \n",
       "1     A0B  2021A0011A0B    10   \n",
       "2     A0C  2021A0011A0C    10   \n",
       "3     A0E  2021A0011A0E    10   \n",
       "4     A0G  2021A0011A0G    10   \n",
       "\n",
       "                                              PRNAME    LANDAREA  \\\n",
       "0  Newfoundland and Labrador / Terre-Neuve-et-Lab...   4136.6221   \n",
       "1  Newfoundland and Labrador / Terre-Neuve-et-Lab...   4152.6284   \n",
       "2  Newfoundland and Labrador / Terre-Neuve-et-Lab...   2733.4722   \n",
       "3  Newfoundland and Labrador / Terre-Neuve-et-Lab...   6365.8235   \n",
       "4  Newfoundland and Labrador / Terre-Neuve-et-Lab...  15499.6047   \n",
       "\n",
       "                                            geometry  \n",
       "0  MULTIPOLYGON (((8986398.603 2027249.146, 89863...  \n",
       "1  MULTIPOLYGON (((8942820.023 2019517.649, 89428...  \n",
       "2  MULTIPOLYGON (((8881604.92 2158976.151, 888160...  \n",
       "3  MULTIPOLYGON (((8824262.857 1952006.689, 88242...  \n",
       "4  MULTIPOLYGON (((8847567.966 2181504.514, 88475...  "
      ]
     },
     "execution_count": 3,
     "metadata": {},
     "output_type": "execute_result"
    }
   ],
   "source": [
    "data.head()"
   ]
  },
  {
   "cell_type": "code",
   "execution_count": 4,
   "id": "cb6e1925",
   "metadata": {},
   "outputs": [
    {
     "data": {
      "text/html": [
       "<div>\n",
       "<style scoped>\n",
       "    .dataframe tbody tr th:only-of-type {\n",
       "        vertical-align: middle;\n",
       "    }\n",
       "\n",
       "    .dataframe tbody tr th {\n",
       "        vertical-align: top;\n",
       "    }\n",
       "\n",
       "    .dataframe thead th {\n",
       "        text-align: right;\n",
       "    }\n",
       "</style>\n",
       "<table border=\"1\" class=\"dataframe\">\n",
       "  <thead>\n",
       "    <tr style=\"text-align: right;\">\n",
       "      <th></th>\n",
       "      <th>CFSAUID</th>\n",
       "      <th>DGUID</th>\n",
       "      <th>PRUID</th>\n",
       "      <th>PRNAME</th>\n",
       "      <th>LANDAREA</th>\n",
       "      <th>geometry</th>\n",
       "    </tr>\n",
       "  </thead>\n",
       "  <tbody>\n",
       "  </tbody>\n",
       "</table>\n",
       "</div>"
      ],
      "text/plain": [
       "Empty GeoDataFrame\n",
       "Columns: [CFSAUID, DGUID, PRUID, PRNAME, LANDAREA, geometry]\n",
       "Index: []"
      ]
     },
     "execution_count": 4,
     "metadata": {},
     "output_type": "execute_result"
    }
   ],
   "source": [
    "data[data.CFSAUID==\"L3J\"]"
   ]
  },
  {
   "cell_type": "code",
   "execution_count": 52,
   "id": "53fe9f03",
   "metadata": {},
   "outputs": [
    {
     "data": {
      "text/html": [
       "<div>\n",
       "<style scoped>\n",
       "    .dataframe tbody tr th:only-of-type {\n",
       "        vertical-align: middle;\n",
       "    }\n",
       "\n",
       "    .dataframe tbody tr th {\n",
       "        vertical-align: top;\n",
       "    }\n",
       "\n",
       "    .dataframe thead th {\n",
       "        text-align: right;\n",
       "    }\n",
       "</style>\n",
       "<table border=\"1\" class=\"dataframe\">\n",
       "  <thead>\n",
       "    <tr style=\"text-align: right;\">\n",
       "      <th></th>\n",
       "      <th>CFSAUID</th>\n",
       "      <th>geometry</th>\n",
       "    </tr>\n",
       "  </thead>\n",
       "  <tbody>\n",
       "    <tr>\n",
       "      <th>0</th>\n",
       "      <td>A0A</td>\n",
       "      <td>MULTIPOLYGON (((8986398.603 2027249.146, 89863...</td>\n",
       "    </tr>\n",
       "    <tr>\n",
       "      <th>1</th>\n",
       "      <td>A0B</td>\n",
       "      <td>MULTIPOLYGON (((8942820.023 2019517.649, 89428...</td>\n",
       "    </tr>\n",
       "    <tr>\n",
       "      <th>2</th>\n",
       "      <td>A0C</td>\n",
       "      <td>MULTIPOLYGON (((8881604.92 2158976.151, 888160...</td>\n",
       "    </tr>\n",
       "    <tr>\n",
       "      <th>3</th>\n",
       "      <td>A0E</td>\n",
       "      <td>MULTIPOLYGON (((8824262.857 1952006.689, 88242...</td>\n",
       "    </tr>\n",
       "    <tr>\n",
       "      <th>4</th>\n",
       "      <td>A0G</td>\n",
       "      <td>MULTIPOLYGON (((8847567.966 2181504.514, 88475...</td>\n",
       "    </tr>\n",
       "    <tr>\n",
       "      <th>...</th>\n",
       "      <td>...</td>\n",
       "      <td>...</td>\n",
       "    </tr>\n",
       "    <tr>\n",
       "      <th>1638</th>\n",
       "      <td>X0G</td>\n",
       "      <td>POLYGON ((4569793.423 3068648.757, 4567685.511...</td>\n",
       "    </tr>\n",
       "    <tr>\n",
       "      <th>1639</th>\n",
       "      <td>X1A</td>\n",
       "      <td>POLYGON ((5233904.58 3460235.34, 5284583.063 3...</td>\n",
       "    </tr>\n",
       "    <tr>\n",
       "      <th>1640</th>\n",
       "      <td>Y0A</td>\n",
       "      <td>POLYGON ((4463431.114 3683146.831, 4463181.651...</td>\n",
       "    </tr>\n",
       "    <tr>\n",
       "      <th>1641</th>\n",
       "      <td>Y0B</td>\n",
       "      <td>MULTIPOLYGON (((4089475.866 3398234.78, 408586...</td>\n",
       "    </tr>\n",
       "    <tr>\n",
       "      <th>1642</th>\n",
       "      <td>Y1A</td>\n",
       "      <td>MULTIPOLYGON (((4076153.789 3431758.594, 40754...</td>\n",
       "    </tr>\n",
       "  </tbody>\n",
       "</table>\n",
       "<p>1643 rows × 2 columns</p>\n",
       "</div>"
      ],
      "text/plain": [
       "     CFSAUID                                           geometry\n",
       "0        A0A  MULTIPOLYGON (((8986398.603 2027249.146, 89863...\n",
       "1        A0B  MULTIPOLYGON (((8942820.023 2019517.649, 89428...\n",
       "2        A0C  MULTIPOLYGON (((8881604.92 2158976.151, 888160...\n",
       "3        A0E  MULTIPOLYGON (((8824262.857 1952006.689, 88242...\n",
       "4        A0G  MULTIPOLYGON (((8847567.966 2181504.514, 88475...\n",
       "...      ...                                                ...\n",
       "1638     X0G  POLYGON ((4569793.423 3068648.757, 4567685.511...\n",
       "1639     X1A  POLYGON ((5233904.58 3460235.34, 5284583.063 3...\n",
       "1640     Y0A  POLYGON ((4463431.114 3683146.831, 4463181.651...\n",
       "1641     Y0B  MULTIPOLYGON (((4089475.866 3398234.78, 408586...\n",
       "1642     Y1A  MULTIPOLYGON (((4076153.789 3431758.594, 40754...\n",
       "\n",
       "[1643 rows x 2 columns]"
      ]
     },
     "execution_count": 52,
     "metadata": {},
     "output_type": "execute_result"
    }
   ],
   "source": [
    "data_geometry = data.iloc[:,[0,5]]\n",
    "data_geometry"
   ]
  },
  {
   "cell_type": "code",
   "execution_count": 57,
   "id": "53dfcb0c",
   "metadata": {},
   "outputs": [
    {
     "data": {
      "text/plain": [
       "405    POLYGON ((7632387.577 1245597.169, 7632358.786...\n",
       "Name: geometry, dtype: geometry"
      ]
     },
     "execution_count": 57,
     "metadata": {},
     "output_type": "execute_result"
    }
   ],
   "source": [
    "data_geometry.geometry.loc[data_geometry.CFSAUID == \"H2X\"]"
   ]
  },
  {
   "cell_type": "code",
   "execution_count": 1,
   "id": "f05a0b1d",
   "metadata": {},
   "outputs": [],
   "source": [
    "import pandas as pd"
   ]
  },
  {
   "cell_type": "code",
   "execution_count": 2,
   "id": "b59706b6",
   "metadata": {},
   "outputs": [],
   "source": [
    "data_postal= pd.read_csv(\"../data/ZipCodeFiles/CanadianPostalCodes202403.csv\")"
   ]
  },
  {
   "cell_type": "code",
   "execution_count": 3,
   "id": "4a5a5177",
   "metadata": {},
   "outputs": [
    {
     "data": {
      "application/vnd.microsoft.datawrangler.viewer.v0+json": {
       "columns": [
        {
         "name": "index",
         "rawType": "int64",
         "type": "integer"
        },
        {
         "name": "POSTAL_CODE",
         "rawType": "object",
         "type": "string"
        },
        {
         "name": "CITY",
         "rawType": "object",
         "type": "string"
        },
        {
         "name": "PROVINCE_ABBR",
         "rawType": "object",
         "type": "string"
        },
        {
         "name": "TIME_ZONE",
         "rawType": "int64",
         "type": "integer"
        },
        {
         "name": "LATITUDE",
         "rawType": "float64",
         "type": "float"
        },
        {
         "name": "LONGITUDE",
         "rawType": "float64",
         "type": "float"
        }
       ],
       "ref": "1e35495d-2705-4b16-9929-1a7c0feed117",
       "rows": [
        [
         "0",
         "J9P 7B7",
         "VAL-D'OR",
         "QC",
         "5",
         "48.071162",
         "-77.872634"
        ],
        [
         "1",
         "M4C 1S9",
         "TORONTO",
         "ON",
         "5",
         "43.688438",
         "-79.307762"
        ],
        [
         "2",
         "T8L 0X6",
         "FORT SASKATCHEWAN",
         "AB",
         "7",
         "53.684795",
         "-113.230031"
        ],
        [
         "3",
         "N3H 1K9",
         "CAMBRIDGE",
         "ON",
         "5",
         "43.400606",
         "-80.359684"
        ],
        [
         "4",
         "M8W 2C9",
         "ETOBICOKE",
         "ON",
         "5",
         "43.6051772",
         "-79.5341438"
        ],
        [
         "5",
         "A2H 2A9",
         "CORNER BROOK",
         "NL",
         "3",
         "48.9590519",
         "-57.9371873"
        ],
        [
         "6",
         "E8E 1M2",
         "SAINT-MAURE",
         "NB",
         "4",
         "47.983614",
         "-66.328477"
        ],
        [
         "7",
         "K0M 2A1",
         "MINDEN",
         "ON",
         "5",
         "44.810097",
         "-78.654385"
        ],
        [
         "8",
         "H2A 3G2",
         "MONTREAL",
         "QC",
         "5",
         "45.559978",
         "-73.608679"
        ],
        [
         "9",
         "L1C 5T7",
         "BOWMANVILLE",
         "ON",
         "5",
         "43.9185635",
         "-78.6828959"
        ],
        [
         "10",
         "K1B 3L5",
         "GLOUCESTER",
         "ON",
         "5",
         "45.427024",
         "-75.600707"
        ],
        [
         "11",
         "E2K 1X1",
         "SAINT JOHN",
         "NB",
         "4",
         "45.278788",
         "-66.080566"
        ],
        [
         "12",
         "N8S 3V6",
         "WINDSOR",
         "ON",
         "5",
         "42.33931",
         "-82.939459"
        ],
        [
         "13",
         "P1H 1L9",
         "HUNTSVILLE",
         "ON",
         "5",
         "45.331698",
         "-79.225138"
        ],
        [
         "14",
         "L4L 8E1",
         "WOODBRIDGE",
         "ON",
         "5",
         "43.801381",
         "-79.60465"
        ],
        [
         "15",
         "S4H 1M6",
         "WEYBURN",
         "SK",
         "6",
         "49.66364",
         "-103.860313"
        ],
        [
         "16",
         "N2G 4K9",
         "KITCHENER",
         "ON",
         "5",
         "43.455838",
         "-80.510323"
        ],
        [
         "17",
         "J4J 2A5",
         "LONGUEUIL",
         "QC",
         "5",
         "45.524521",
         "-73.48874"
        ],
        [
         "18",
         "L3B 4W5",
         "WELLAND",
         "ON",
         "5",
         "42.980604",
         "-79.247608"
        ],
        [
         "19",
         "E2E 3R8",
         "QUISPAMSIS",
         "NB",
         "4",
         "45.412659",
         "-65.971793"
        ],
        [
         "20",
         "L6E 0K2",
         "MARKHAM",
         "ON",
         "5",
         "43.899227",
         "-79.273304"
        ],
        [
         "21",
         "E3V 5C8",
         "EDMUNDSTON",
         "NB",
         "4",
         "47.398771",
         "-68.330518"
        ],
        [
         "22",
         "L3C 0H1",
         "WELLAND",
         "ON",
         "5",
         "42.996532",
         "-79.266808"
        ],
        [
         "23",
         "M2J 2S4",
         "NORTH YORK",
         "ON",
         "5",
         "43.7884427",
         "-79.3718133"
        ],
        [
         "24",
         "K9V 0C5",
         "LINDSAY",
         "ON",
         "5",
         "44.3354799",
         "-78.7492148"
        ],
        [
         "25",
         "J5K 2G1",
         "SAINT-COLOMBAN",
         "QC",
         "5",
         "45.795705",
         "-74.038195"
        ],
        [
         "26",
         "E1A 0J1",
         "MONCTON",
         "NB",
         "4",
         "46.110312",
         "-64.736639"
        ],
        [
         "27",
         "T3C 3V3",
         "CALGARY",
         "AB",
         "7",
         "51.039352",
         "-114.093224"
        ],
        [
         "28",
         "K7A 5C6",
         "SMITHS FALLS",
         "ON",
         "5",
         "44.909845",
         "-76.021825"
        ],
        [
         "29",
         "P1B 5C4",
         "NORTH BAY",
         "ON",
         "5",
         "46.324973",
         "-79.46892"
        ],
        [
         "30",
         "L4N 6Y3",
         "BARRIE",
         "ON",
         "5",
         "44.358827",
         "-79.711773"
        ],
        [
         "31",
         "V3B 4V7",
         "PORT COQUITLAM",
         "BC",
         "8",
         "49.285277",
         "-122.736468"
        ],
        [
         "32",
         "G4R 0S4",
         "SEPT-ILES",
         "QC",
         "5",
         "50.20483",
         "-66.304303"
        ],
        [
         "33",
         "V6M 2W7",
         "VANCOUVER",
         "BC",
         "8",
         "49.227382",
         "-123.128265"
        ],
        [
         "34",
         "K7L 1Y9",
         "KINGSTON",
         "ON",
         "5",
         "44.231484",
         "-76.494117"
        ],
        [
         "35",
         "E2V 4A5",
         "GEARY",
         "NB",
         "4",
         "45.983879",
         "-66.681534"
        ],
        [
         "36",
         "B3N 2R3",
         "HALIFAX",
         "NS",
         "4",
         "44.660588",
         "-63.630023"
        ],
        [
         "37",
         "H2K 4N4",
         "MONTREAL",
         "QC",
         "5",
         "45.528412",
         "-73.554456"
        ],
        [
         "38",
         "H4H 1K7",
         "VERDUN",
         "QC",
         "5",
         "45.452808",
         "-73.572288"
        ],
        [
         "39",
         "G6V 8T8",
         "LEVIS",
         "QC",
         "5",
         "46.811498",
         "-71.153924"
        ],
        [
         "40",
         "V8S 1X6",
         "VICTORIA",
         "BC",
         "8",
         "48.423759",
         "-123.332687"
        ],
        [
         "41",
         "N2C 1C6",
         "KITCHENER",
         "ON",
         "5",
         "43.4285514",
         "-80.4462178"
        ],
        [
         "42",
         "H8Z 0A1",
         "PIERREFONDS",
         "QC",
         "5",
         "45.5154277",
         "-73.83639"
        ],
        [
         "43",
         "H1T 1Z6",
         "MONTREAL",
         "QC",
         "5",
         "45.569217",
         "-73.569135"
        ],
        [
         "44",
         "N1E 4L8",
         "GUELPH",
         "ON",
         "5",
         "43.557887",
         "-80.24575"
        ],
        [
         "45",
         "J5R 2C5",
         "CANDIAC",
         "QC",
         "5",
         "45.388468",
         "-73.512109"
        ],
        [
         "46",
         "R8A 0H9",
         "FLIN FLON",
         "MB",
         "6",
         "54.7744475",
         "-101.8497305"
        ],
        [
         "47",
         "G8B 5A7",
         "ALMA",
         "QC",
         "5",
         "48.552489",
         "-71.637565"
        ],
        [
         "48",
         "V3N 2K9",
         "BURNABY",
         "BC",
         "8",
         "49.22211",
         "-122.926445"
        ],
        [
         "49",
         "G2K 1H9",
         "QUEBEC",
         "QC",
         "5",
         "46.852784",
         "-71.316975"
        ]
       ],
       "shape": {
        "columns": 6,
        "rows": 900688
       }
      },
      "text/html": [
       "<div>\n",
       "<style scoped>\n",
       "    .dataframe tbody tr th:only-of-type {\n",
       "        vertical-align: middle;\n",
       "    }\n",
       "\n",
       "    .dataframe tbody tr th {\n",
       "        vertical-align: top;\n",
       "    }\n",
       "\n",
       "    .dataframe thead th {\n",
       "        text-align: right;\n",
       "    }\n",
       "</style>\n",
       "<table border=\"1\" class=\"dataframe\">\n",
       "  <thead>\n",
       "    <tr style=\"text-align: right;\">\n",
       "      <th></th>\n",
       "      <th>POSTAL_CODE</th>\n",
       "      <th>CITY</th>\n",
       "      <th>PROVINCE_ABBR</th>\n",
       "      <th>TIME_ZONE</th>\n",
       "      <th>LATITUDE</th>\n",
       "      <th>LONGITUDE</th>\n",
       "    </tr>\n",
       "  </thead>\n",
       "  <tbody>\n",
       "    <tr>\n",
       "      <th>0</th>\n",
       "      <td>J9P 7B7</td>\n",
       "      <td>VAL-D'OR</td>\n",
       "      <td>QC</td>\n",
       "      <td>5</td>\n",
       "      <td>48.071162</td>\n",
       "      <td>-77.872634</td>\n",
       "    </tr>\n",
       "    <tr>\n",
       "      <th>1</th>\n",
       "      <td>M4C 1S9</td>\n",
       "      <td>TORONTO</td>\n",
       "      <td>ON</td>\n",
       "      <td>5</td>\n",
       "      <td>43.688438</td>\n",
       "      <td>-79.307762</td>\n",
       "    </tr>\n",
       "    <tr>\n",
       "      <th>2</th>\n",
       "      <td>T8L 0X6</td>\n",
       "      <td>FORT SASKATCHEWAN</td>\n",
       "      <td>AB</td>\n",
       "      <td>7</td>\n",
       "      <td>53.684795</td>\n",
       "      <td>-113.230031</td>\n",
       "    </tr>\n",
       "    <tr>\n",
       "      <th>3</th>\n",
       "      <td>N3H 1K9</td>\n",
       "      <td>CAMBRIDGE</td>\n",
       "      <td>ON</td>\n",
       "      <td>5</td>\n",
       "      <td>43.400606</td>\n",
       "      <td>-80.359684</td>\n",
       "    </tr>\n",
       "    <tr>\n",
       "      <th>4</th>\n",
       "      <td>M8W 2C9</td>\n",
       "      <td>ETOBICOKE</td>\n",
       "      <td>ON</td>\n",
       "      <td>5</td>\n",
       "      <td>43.605177</td>\n",
       "      <td>-79.534144</td>\n",
       "    </tr>\n",
       "    <tr>\n",
       "      <th>...</th>\n",
       "      <td>...</td>\n",
       "      <td>...</td>\n",
       "      <td>...</td>\n",
       "      <td>...</td>\n",
       "      <td>...</td>\n",
       "      <td>...</td>\n",
       "    </tr>\n",
       "    <tr>\n",
       "      <th>900683</th>\n",
       "      <td>K1Y 3G1</td>\n",
       "      <td>OTTAWA</td>\n",
       "      <td>ON</td>\n",
       "      <td>5</td>\n",
       "      <td>45.399437</td>\n",
       "      <td>-75.728286</td>\n",
       "    </tr>\n",
       "    <tr>\n",
       "      <th>900684</th>\n",
       "      <td>K2M 2E8</td>\n",
       "      <td>KANATA</td>\n",
       "      <td>ON</td>\n",
       "      <td>5</td>\n",
       "      <td>45.302607</td>\n",
       "      <td>-75.855760</td>\n",
       "    </tr>\n",
       "    <tr>\n",
       "      <th>900685</th>\n",
       "      <td>E5N 5X3</td>\n",
       "      <td>HAMPTON</td>\n",
       "      <td>NB</td>\n",
       "      <td>4</td>\n",
       "      <td>45.538400</td>\n",
       "      <td>-65.838020</td>\n",
       "    </tr>\n",
       "    <tr>\n",
       "      <th>900686</th>\n",
       "      <td>G1R 1P8</td>\n",
       "      <td>QUEBEC</td>\n",
       "      <td>QC</td>\n",
       "      <td>5</td>\n",
       "      <td>46.810471</td>\n",
       "      <td>-71.218814</td>\n",
       "    </tr>\n",
       "    <tr>\n",
       "      <th>900687</th>\n",
       "      <td>S9H 2L7</td>\n",
       "      <td>SWIFT CURRENT</td>\n",
       "      <td>SK</td>\n",
       "      <td>6</td>\n",
       "      <td>50.282386</td>\n",
       "      <td>-107.792064</td>\n",
       "    </tr>\n",
       "  </tbody>\n",
       "</table>\n",
       "<p>900688 rows × 6 columns</p>\n",
       "</div>"
      ],
      "text/plain": [
       "       POSTAL_CODE               CITY PROVINCE_ABBR  TIME_ZONE   LATITUDE  \\\n",
       "0          J9P 7B7           VAL-D'OR            QC          5  48.071162   \n",
       "1          M4C 1S9            TORONTO            ON          5  43.688438   \n",
       "2          T8L 0X6  FORT SASKATCHEWAN            AB          7  53.684795   \n",
       "3          N3H 1K9          CAMBRIDGE            ON          5  43.400606   \n",
       "4          M8W 2C9          ETOBICOKE            ON          5  43.605177   \n",
       "...            ...                ...           ...        ...        ...   \n",
       "900683     K1Y 3G1             OTTAWA            ON          5  45.399437   \n",
       "900684     K2M 2E8             KANATA            ON          5  45.302607   \n",
       "900685     E5N 5X3            HAMPTON            NB          4  45.538400   \n",
       "900686     G1R 1P8             QUEBEC            QC          5  46.810471   \n",
       "900687     S9H 2L7      SWIFT CURRENT            SK          6  50.282386   \n",
       "\n",
       "         LONGITUDE  \n",
       "0       -77.872634  \n",
       "1       -79.307762  \n",
       "2      -113.230031  \n",
       "3       -80.359684  \n",
       "4       -79.534144  \n",
       "...            ...  \n",
       "900683  -75.728286  \n",
       "900684  -75.855760  \n",
       "900685  -65.838020  \n",
       "900686  -71.218814  \n",
       "900687 -107.792064  \n",
       "\n",
       "[900688 rows x 6 columns]"
      ]
     },
     "execution_count": 3,
     "metadata": {},
     "output_type": "execute_result"
    }
   ],
   "source": [
    "data_postal"
   ]
  },
  {
   "cell_type": "code",
   "execution_count": 4,
   "id": "7accfbbe",
   "metadata": {},
   "outputs": [
    {
     "data": {
      "application/vnd.microsoft.datawrangler.viewer.v0+json": {
       "columns": [
        {
         "name": "index",
         "rawType": "int64",
         "type": "integer"
        },
        {
         "name": "POSTAL_CODE",
         "rawType": "object",
         "type": "string"
        },
        {
         "name": "CITY",
         "rawType": "object",
         "type": "string"
        },
        {
         "name": "PROVINCE_ABBR",
         "rawType": "object",
         "type": "string"
        },
        {
         "name": "TIME_ZONE",
         "rawType": "int64",
         "type": "integer"
        },
        {
         "name": "LATITUDE",
         "rawType": "float64",
         "type": "float"
        },
        {
         "name": "LONGITUDE",
         "rawType": "float64",
         "type": "float"
        }
       ],
       "ref": "b401c1f7-8182-4736-a5c4-6b52412333ea",
       "rows": [
        [
         "68646",
         "H2X 3Y3",
         "MONTREAL",
         "QC",
         "5",
         "45.511795",
         "-73.55933"
        ]
       ],
       "shape": {
        "columns": 6,
        "rows": 1
       }
      },
      "text/html": [
       "<div>\n",
       "<style scoped>\n",
       "    .dataframe tbody tr th:only-of-type {\n",
       "        vertical-align: middle;\n",
       "    }\n",
       "\n",
       "    .dataframe tbody tr th {\n",
       "        vertical-align: top;\n",
       "    }\n",
       "\n",
       "    .dataframe thead th {\n",
       "        text-align: right;\n",
       "    }\n",
       "</style>\n",
       "<table border=\"1\" class=\"dataframe\">\n",
       "  <thead>\n",
       "    <tr style=\"text-align: right;\">\n",
       "      <th></th>\n",
       "      <th>POSTAL_CODE</th>\n",
       "      <th>CITY</th>\n",
       "      <th>PROVINCE_ABBR</th>\n",
       "      <th>TIME_ZONE</th>\n",
       "      <th>LATITUDE</th>\n",
       "      <th>LONGITUDE</th>\n",
       "    </tr>\n",
       "  </thead>\n",
       "  <tbody>\n",
       "    <tr>\n",
       "      <th>68646</th>\n",
       "      <td>H2X 3Y3</td>\n",
       "      <td>MONTREAL</td>\n",
       "      <td>QC</td>\n",
       "      <td>5</td>\n",
       "      <td>45.511795</td>\n",
       "      <td>-73.55933</td>\n",
       "    </tr>\n",
       "  </tbody>\n",
       "</table>\n",
       "</div>"
      ],
      "text/plain": [
       "      POSTAL_CODE      CITY PROVINCE_ABBR  TIME_ZONE   LATITUDE  LONGITUDE\n",
       "68646     H2X 3Y3  MONTREAL            QC          5  45.511795  -73.55933"
      ]
     },
     "execution_count": 4,
     "metadata": {},
     "output_type": "execute_result"
    }
   ],
   "source": [
    "data_postal[data_postal.POSTAL_CODE==\"H2X 3Y3\"]"
   ]
  },
  {
   "cell_type": "code",
   "execution_count": 5,
   "id": "11bffec0",
   "metadata": {},
   "outputs": [
    {
     "name": "stdout",
     "output_type": "stream",
     "text": [
      "✅ Map saved as montreal_traffic.html\n"
     ]
    }
   ],
   "source": [
    "import folium\n",
    "\n",
    "# --- 1️⃣ Create base map (centered on Montreal) ---\n",
    "m = folium.Map(location=[45.5019, -73.5674], zoom_start=12)\n",
    "\n",
    "# --- 2️⃣ Add Mapbox Traffic layer ---\n",
    "# ⚠️ You need to replace YOUR_MAPBOX_ACCESS_TOKEN with your token\n",
    "mapbox_token = \"pk.eyJ1IjoiYW1hZG91c25kaWF5ZSIsImEiOiJjbWdseGQ2MTYwbTRrMmxxNTgzMXNoajlrIn0.huvmnGzS1yjykOIDqMeOyw\"\n",
    "\n",
    "folium.TileLayer(\n",
    "    tiles=f\"https://api.mapbox.com/styles/v1/mapbox/traffic-night-v2/tiles/256/{{z}}/{{x}}/{{y}}@2x?access_token={mapbox_token}\",\n",
    "    attr='Mapbox Traffic',\n",
    "    name='Traffic (Mapbox)',\n",
    "    overlay=True,\n",
    "    control=True\n",
    ").add_to(m)\n",
    "\n",
    "# --- 3️⃣ Add optional other base layers (for contrast) ---\n",
    "folium.TileLayer('OpenStreetMap', name='OSM Base').add_to(m)\n",
    "folium.TileLayer('cartodbpositron', name='Light Map').add_to(m)\n",
    "\n",
    "# --- 4️⃣ Add layer control ---\n",
    "folium.LayerControl().add_to(m)\n",
    "\n",
    "# --- 5️⃣ Save map ---\n",
    "m.save(\"montreal_traffic.html\")\n",
    "print(\"✅ Map saved as montreal_traffic.html\")\n"
   ]
  },
  {
   "cell_type": "code",
   "execution_count": 10,
   "id": "81496c6d",
   "metadata": {},
   "outputs": [
    {
     "name": "stdout",
     "output_type": "stream",
     "text": [
      "404\n",
      "{'message': 'Tileset \"mapbox.boundaries-postal-code-prefix-ca\" does not exist'}\n"
     ]
    }
   ],
   "source": [
    "import requests\n",
    "import geopandas as gpd\n",
    "from shapely.geometry import shape\n",
    "\n",
    "# --- Config ---\n",
    "MAPBOX_TOKEN = \"pk.eyJ1IjoiYW1hZG91c25kaWF5ZSIsImEiOiJjbWdseGQ2MTYwbTRrMmxxNTgzMXNoajlrIn0.huvmnGzS1yjykOIDqMeOyw\"\n",
    "TILESET_ID = \"mapbox.boundaries-postal-code-prefix-ca\"\n",
    "\n",
    "# Example coordinate in Montréal\n",
    "lon, lat = -73.5673, 45.5017\n",
    "url = (\n",
    "    f\"https://api.mapbox.com/v4/{TILESET_ID}/tilequery/{lon},{lat}.json\"\n",
    "    f\"?access_token={MAPBOX_TOKEN}\"\n",
    ")\n",
    "\n",
    "# --- Query Mapbox ---\n",
    "response = requests.get(url)\n",
    "data = response.json()\n",
    "print(response.status_code)\n",
    "print(data)\n"
   ]
  },
  {
   "cell_type": "code",
   "execution_count": null,
   "id": "2bee2545",
   "metadata": {},
   "outputs": [],
   "source": [
    "\n",
    "# --- Convert to GeoDataFrame ---\n",
    "features = []\n",
    "for feature in data[\"features\"]:\n",
    "    geom = shape(feature[\"geometry\"])\n",
    "    props = feature[\"properties\"]\n",
    "    features.append({\"geometry\": geom, **props})\n",
    "\n",
    "gdf = gpd.GeoDataFrame(features, crs=\"EPSG:4326\")\n",
    "\n",
    "print(gdf[[\"name\", \"iso_3166_2\", \"geometry\"]].head())\n"
   ]
  }
 ],
 "metadata": {
  "kernelspec": {
   "display_name": "qcsort",
   "language": "python",
   "name": "python3"
  },
  "language_info": {
   "codemirror_mode": {
    "name": "ipython",
    "version": 3
   },
   "file_extension": ".py",
   "mimetype": "text/x-python",
   "name": "python",
   "nbconvert_exporter": "python",
   "pygments_lexer": "ipython3",
   "version": "3.12.3"
  }
 },
 "nbformat": 4,
 "nbformat_minor": 5
}
